{
  "nbformat": 4,
  "nbformat_minor": 0,
  "metadata": {
    "colab": {
      "provenance": [],
      "authorship_tag": "ABX9TyMLiWi3L6nrG8R0VkLNEeNy",
      "include_colab_link": true
    },
    "kernelspec": {
      "name": "python3",
      "display_name": "Python 3"
    },
    "language_info": {
      "name": "python"
    }
  },
  "cells": [
    {
      "cell_type": "markdown",
      "metadata": {
        "id": "view-in-github",
        "colab_type": "text"
      },
      "source": [
        "<a href=\"https://colab.research.google.com/github/ELIASNVARRO/EEE/blob/main/taller_programaci%C3%B3n.ipynb\" target=\"_parent\"><img src=\"https://colab.research.google.com/assets/colab-badge.svg\" alt=\"Open In Colab\"/></a>"
      ]
    },
    {
      "cell_type": "code",
      "execution_count": null,
      "metadata": {
        "id": "Q1kdzTIlVKV1"
      },
      "outputs": [],
      "source": [
        "distancia = float(input(\"ingrese la distancia recorrida en km\"))\n",
        "tiempo_detencion= float(input(\"ingrese el tiempo de detencion en minutos\"))\n",
        "hora_inicio = float(input(\"ingrese la hora de inicio del viaje\"))\n",
        "total = 0\n",
        "tarifabase= 6000\n",
        "tarifatiempodetencion = 400\n",
        "if distancia > 0 and distancia <= 5:\n",
        "  total = tarifabase + (distancia * 1500)\n",
        "elif distancia >= 6 and distancia <= 15:\n",
        "  total = tarifabase + (5 *1500)+ 1200*(distancia-5)\n",
        "elif distancia > 15:\n",
        "  total = tarifabase + (5 *1500)+ 1200*(10)+ 1000*(distancia-15)\n",
        "else:\n",
        "  print(\"distancia invalida\")\n",
        "if tiempo_detencion > 0:\n",
        "  total = total + (tiempo_detencion * tarifatiempodetencion)\n",
        "if hora_inicio >=22 and hora_inicio <=23:\n",
        " total = total + (total * 0.2)\n",
        "elif hora_inicio>=0 and hora_inicio < 6 :\n",
        "  total = total + (total * 0.2)\n",
        "print(\"el costo total del viaje es\", total)\n",
        "\n"
      ]
    }
  ]
}